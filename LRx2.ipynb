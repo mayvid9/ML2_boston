{
 "cells": [
  {
   "cell_type": "code",
   "execution_count": null,
   "metadata": {},
   "outputs": [],
   "source": [
    "import numpy as np\n",
    "import matplotlib.pyplot as plt\n",
    "from sklearn.linear_model import LinearRegression\n",
    "from sklearn.preprocessing import PolynomialFeatures"
   ]
  },
  {
   "cell_type": "code",
   "execution_count": null,
   "metadata": {},
   "outputs": [],
   "source": [
    "data=np.genfromtxt(\"boston_train.csv\",delimiter=\",\")\n",
    "x_train=data[:,0:13]\n",
    "y_train=data[:,13:]\n",
    "poly=PolynomialFeatures(degree=10)\n",
    "x_train=poly.fit_transform(x_train)\n",
    "#x_train=np.c_[x_train,x_train**2,x_train[:,0:1]*x_train[:,1:2],x_train**3]\n",
    "#plt.scatter(x_train[:,:],y_train)\n",
    "clf=LinearRegression()\n",
    "clf.fit(x_train,y_train)\n",
    "tdata=np.genfromtxt(\"boston_test.csv\",delimiter=\",\")\n",
    "x_test=tdata[:,0:13]\n",
    "#x_test=np.c_[x_test,x_test**2,x_test[:,0:1]*x_test[:,1:2],x_test**3]\n",
    "x_test=poly.fit_transform(x_test)\n",
    "y_pred_train=clf.predict(x_train)\n",
    "y_pred=clf.predict(x_test)\n",
    "clf.score(x_train,y_train)\n",
    "np.savetxt(\"ppp.csv\",y_pred,header=\"\",fmt=\"%.5f\")"
   ]
  },
  {
   "cell_type": "code",
   "execution_count": null,
   "metadata": {},
   "outputs": [],
   "source": []
  }
 ],
 "metadata": {
  "kernelspec": {
   "display_name": "Python 3",
   "language": "python",
   "name": "python3"
  },
  "language_info": {
   "codemirror_mode": {
    "name": "ipython",
    "version": 3
   },
   "file_extension": ".py",
   "mimetype": "text/x-python",
   "name": "python",
   "nbconvert_exporter": "python",
   "pygments_lexer": "ipython3",
   "version": "3.6.4"
  }
 },
 "nbformat": 4,
 "nbformat_minor": 2
}
