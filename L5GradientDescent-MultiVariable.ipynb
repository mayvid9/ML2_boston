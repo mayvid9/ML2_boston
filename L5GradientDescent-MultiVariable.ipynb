{
 "cells": [
  {
   "cell_type": "code",
   "execution_count": 3,
   "metadata": {},
   "outputs": [],
   "source": [
    "import numpy as np\n",
    "import math"
   ]
  },
  {
   "cell_type": "code",
   "execution_count": 4,
   "metadata": {},
   "outputs": [],
   "source": [
    "# calculate cost function\n",
    "def cost(x, y, m):\n",
    "    return ((y - np.dot(x, m)) ** 2).mean()"
   ]
  },
  {
   "cell_type": "code",
   "execution_count": 5,
   "metadata": {},
   "outputs": [],
   "source": [
    "# calculate gradients and update m & b values\n",
    "def step_gradient(x, y, learning_rate, m, batch_size):\n",
    "    k = x.shape[0]\n",
    "    n = x.shape[1]\n",
    "    num_batches = math.ceil(k/batch_size)\n",
    "    \n",
    "    for b in range(num_batches):\n",
    "        start = b * batch_size \n",
    "        end = min((b + 1) * batch_size, k)\n",
    "        slope_m = np.zeros((n, 1))\n",
    "        for j in range(n):\n",
    "            for i in range(start, end, 1):\n",
    "                y_pred_i = np.dot(x[i], m)[0]\n",
    "                y_i = y[i][0]\n",
    "                slope_m[j][0] += (2/k)*x[i][j]*(y_pred_i - y_i)\n",
    "        #slope_m += (2/k) * x[i] * (m * x[i] + b - y[i])    \n",
    "        m = m - learning_rate * slope_m\n",
    "    return m"
   ]
  },
  {
   "cell_type": "code",
   "execution_count": 6,
   "metadata": {},
   "outputs": [],
   "source": [
    "# running multiple iterations of step gradient\n",
    "def gradient_descent(x, y, learning_rate = 0.1, num_iter = 100, batch_size = 32):\n",
    "    m = np.zeros((x.shape[1], 1))\n",
    "    print(\"Start : \", cost(x, y, m))\n",
    "    for i in range(num_iter):\n",
    "        m = step_gradient(x, y, learning_rate, m, batch_size)\n",
    "        if (i % (num_iter//10) == 0):\n",
    "            print(i, \" : \", cost(x, y, m))\n",
    "    print(\"End : \", cost(x, y, m))\n",
    "    return m"
   ]
  },
  {
   "cell_type": "code",
   "execution_count": 30,
   "metadata": {},
   "outputs": [],
   "source": [
    "# data loading & calling gradient descent\n",
    "def run(x, y):\n",
    "    learning_rate = 0.3\n",
    "    num_iter = 10\n",
    "    m = gradient_descent(x, y, learning_rate, num_iter)\n",
    "    return m"
   ]
  },
  {
   "cell_type": "code",
   "execution_count": 31,
   "metadata": {},
   "outputs": [],
   "source": [
    "from sklearn import datasets\n",
    "from sklearn.model_selection import train_test_split\n",
    "from sklearn.preprocessing import StandardScaler"
   ]
  },
  {
   "cell_type": "code",
   "execution_count": 32,
   "metadata": {},
   "outputs": [],
   "source": [
    "# boston = datasets.load_boston()\n",
    "# x = boston.data\n",
    "# y = boston.target.reshape((x.shape[0], 1))\n",
    "# x_train, x_test, y_train, y_test = train_test_split(x, y, random_state=1)\n",
    "data=np.genfromtxt(\"boston_train.csv\",delimiter=\",\")\n",
    "x_train=data[:,0:13]\n",
    "y_train=data[:,13:]\n",
    "y_train.shape=((x_train.shape[0],1))\n",
    "x_train=np.insert(x_train,13,1,axis=1)\n",
    "tdata=np.genfromtxt(\"boston_test.csv\",delimiter=\",\")\n",
    "x_test=tdata[:,0:13]\n",
    "x_test=np.insert(x_test,13,1,axis=1)\n",
    "\n"
   ]
  },
  {
   "cell_type": "code",
   "execution_count": 29,
   "metadata": {},
   "outputs": [
    {
     "name": "stdout",
     "output_type": "stream",
     "text": [
      "Start :  599.1222691292876\n",
      "0  :  599.0373186008252\n",
      "1  :  598.9523890576063\n",
      "2  :  598.8674804892946\n",
      "3  :  598.7825928855602\n",
      "4  :  598.6977262360813\n",
      "5  :  598.6128805305422\n",
      "6  :  598.5280557586344\n",
      "7  :  598.443251910057\n",
      "8  :  598.3584689745154\n",
      "9  :  598.2737069417221\n",
      "End :  598.2737069417221\n"
     ]
    },
    {
     "data": {
      "text/plain": [
       "array([-0.02043331,  0.02927346,  0.01292038,  0.02897696,  0.01273691,\n",
       "       -0.0167734 ,  0.02768773,  0.02059461,  0.01134494,  0.01891504,\n",
       "        0.02376614,  0.01046725,  0.02235553,  0.01703698,  0.03593315,\n",
       "        0.02929919,  0.02397089,  0.0236604 ,  0.02508395,  0.02830802,\n",
       "        0.01413275,  0.0095031 ,  0.02025624,  0.03959145,  0.04447257,\n",
       "       -0.00947703,  0.01391864,  0.03491417,  0.01644342,  0.02841197,\n",
       "        0.01059991,  0.0225294 ,  0.01585395,  0.02356247, -0.01173758,\n",
       "        0.0223993 ,  0.0280973 ,  0.01039106,  0.0269188 , -0.01995159,\n",
       "       -0.02497112,  0.03117427,  0.03957408,  0.00482694, -0.00047205,\n",
       "       -0.0291367 ,  0.03645556,  0.01901544,  0.04584092, -0.00708135,\n",
       "       -0.00830881,  0.05072031, -0.00647163,  0.01043813,  0.00888558,\n",
       "        0.01900676,  0.01169593,  0.01929574,  0.00560224, -0.00684188,\n",
       "       -0.01668139,  0.02213928,  0.02137952,  0.02337639, -0.00852312,\n",
       "       -0.01100558,  0.03028376, -0.00741955,  0.02056657,  0.00497538,\n",
       "        0.02677202,  0.01161388, -0.00019042, -0.02549826,  0.04748158,\n",
       "        0.02472995,  0.03035382,  0.02756129, -0.01055832,  0.04502378,\n",
       "       -0.00309532,  0.01242586,  0.02234548,  0.00519325, -0.00589695,\n",
       "        0.03368932,  0.03096736, -0.02352081,  0.00687844, -0.00462724,\n",
       "        0.02037391,  0.00979759,  0.00954846, -0.01339632,  0.0147833 ,\n",
       "        0.01137205,  0.05121397,  0.00405002,  0.04170085,  0.03321176,\n",
       "        0.02076909,  0.02084499,  0.02454783,  0.02812237, -0.00936135,\n",
       "        0.02263627,  0.02334906,  0.04947956,  0.02656359, -0.01132859,\n",
       "        0.03772956, -0.03234656,  0.00268287, -0.01210852,  0.03638891,\n",
       "        0.00776377,  0.01574806,  0.02151555,  0.02429592,  0.00088518,\n",
       "        0.00566768,  0.03655243,  0.01742878,  0.02208288,  0.03225984,\n",
       "        0.00960148, -0.00594216])"
      ]
     },
     "execution_count": 29,
     "metadata": {},
     "output_type": "execute_result"
    }
   ],
   "source": [
    "m = run(x_train, y_train)\n",
    "m.shape=(14)\n",
    "y_pred=[]\n",
    "for i in range(x_test.shape[0]):\n",
    "        c=0\n",
    "        for j in range(x_test.shape[1]):\n",
    "            c+=x_test[i][j]*m[j]\n",
    "        y_pred.append(c)\n",
    "y_pred=np.array(y_pred)\n",
    "y_pred"
   ]
  },
  {
   "cell_type": "code",
   "execution_count": null,
   "metadata": {
    "collapsed": true
   },
   "outputs": [],
   "source": [
    "from sklearn.linear_model import LinearRegression"
   ]
  },
  {
   "cell_type": "code",
   "execution_count": 158,
   "metadata": {},
   "outputs": [
    {
     "data": {
      "text/plain": [
       "0.67270616371705527"
      ]
     },
     "execution_count": 158,
     "metadata": {},
     "output_type": "execute_result"
    }
   ],
   "source": [
    "clf = LinearRegression()\n",
    "clf.fit(xs, y_train)\n",
    "y_pred_clf = clf.predict(xt)\n",
    "score(y_train, y_pred_clf)"
   ]
  },
  {
   "cell_type": "code",
   "execution_count": 157,
   "metadata": {
    "collapsed": true
   },
   "outputs": [],
   "source": [
    "def score(y, y_pred):\n",
    "    u = ((y - y_pred)**2).sum()\n",
    "    v = ((y - y.mean())**2).sum()\n",
    "    return 1 - u/v"
   ]
  },
  {
   "cell_type": "code",
   "execution_count": null,
   "metadata": {},
   "outputs": [],
   "source": [
    "x = boston.data\n",
    "y = boston.target.reshape((x.shape[0], 1))\n",
    "m = np.ones((x.shape[1], 1))\n",
    "pred = np.dot(x, m)\n",
    "((pred - y) ** 2).mean()"
   ]
  },
  {
   "cell_type": "code",
   "execution_count": 160,
   "metadata": {
    "scrolled": true
   },
   "outputs": [
    {
     "data": {
      "text/plain": [
       "0.51749859516518437"
      ]
     },
     "execution_count": 160,
     "metadata": {},
     "output_type": "execute_result"
    }
   ],
   "source": [
    "pred = np.dot(x_train, m)\n",
    "score(y_train, pred)"
   ]
  },
  {
   "cell_type": "code",
   "execution_count": null,
   "metadata": {},
   "outputs": [],
   "source": []
  }
 ],
 "metadata": {
  "anaconda-cloud": {},
  "kernelspec": {
   "display_name": "Python 3",
   "language": "python",
   "name": "python3"
  },
  "language_info": {
   "codemirror_mode": {
    "name": "ipython",
    "version": 3
   },
   "file_extension": ".py",
   "mimetype": "text/x-python",
   "name": "python",
   "nbconvert_exporter": "python",
   "pygments_lexer": "ipython3",
   "version": "3.6.4"
  }
 },
 "nbformat": 4,
 "nbformat_minor": 1
}
