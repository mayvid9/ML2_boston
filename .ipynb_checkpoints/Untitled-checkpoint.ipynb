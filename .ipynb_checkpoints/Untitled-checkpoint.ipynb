{
 "cells": [
  {
   "cell_type": "code",
   "execution_count": 149,
   "metadata": {},
   "outputs": [],
   "source": [
    "import pandas as pd\n",
    "import numpy as np\n",
    "import matplotlib.pyplot as plt\n",
    "from sklearn import preprocessing"
   ]
  },
  {
   "cell_type": "code",
   "execution_count": 114,
   "metadata": {},
   "outputs": [],
   "source": [
    "def cost(x,y,m):\n",
    "    n=x.shape[0]\n",
    "    o=x.shape[1]\n",
    "    s=0\n",
    "    c=0\n",
    "    for i in range (n):\n",
    "        s=0\n",
    "        for j in range(o):\n",
    "            s+=x[i][j]*m[j]\n",
    "        c+=(s-y[i])**2\n",
    "    return c/n\n"
   ]
  },
  {
   "cell_type": "code",
   "execution_count": 115,
   "metadata": {},
   "outputs": [],
   "source": [
    "def step_gradient(x,y,learning_rate,m):\n",
    "    n=x.shape[0]\n",
    "    o=x.shape[1]\n",
    "    s=0\n",
    "    c=0\n",
    "    slope_m=[]\n",
    "    new_m=[]\n",
    "    for k in range (o):\n",
    "        for i in range (n):\n",
    "            s=0\n",
    "            for j in range(o):\n",
    "                s+=x[i][j]*m[j]\n",
    "            c+=(s-y[i])*x[i][k]                           \n",
    "        slope_m.append(c*2/n)\n",
    "        new_m.append(m[k]-learning_rate*slope_m[k])\n",
    "    return np.array(new_m[0:o+1])\n",
    "    "
   ]
  },
  {
   "cell_type": "code",
   "execution_count": 143,
   "metadata": {},
   "outputs": [],
   "source": [
    "def gradient_descent(x,y,num_iter,learning_rate=0.1):\n",
    "    m=np.zeros(x.shape[1])\n",
    "   # print (\"start\",cost(x,y,m))\n",
    "    for i in range(num_iter):\n",
    "        m=step_gradient(x,y,learning_rate,m)\n",
    "        #print (cost(x,y,m))\n",
    "        #print(i,\" : \",cost(x,y,m),\"m :\",m[0:x.shape[1]],\"b :\",m[x.shape[1]])\n",
    "    return m\n",
    "    "
   ]
  },
  {
   "cell_type": "code",
   "execution_count": 152,
   "metadata": {},
   "outputs": [],
   "source": [
    "def run():\n",
    "    data=np.genfromtxt(\"boston_train_modify.csv\",delimiter=\",\")\n",
    "    x_train=data[:,0:13]\n",
    "    y_train=data[:,13:]\n",
    "    #x_train=preprocessing.scale(x_train)\n",
    "    #y_train=preprocessing.scale(y_train)\n",
    "    y_train.shape=(y_train.shape[0])\n",
    "    x_train=np.insert(x_train,13,1,axis=1)\n",
    "   # print(y_train)\n",
    "    tdata=np.genfromtxt(\"boston_test_modify.csv\",delimiter=\",\")\n",
    "    x_test=tdata[:,0:13]\n",
    "    \n",
    "    learning_rate=0.08\n",
    "    num_iter=1000\n",
    "    m=np.zeros(x_train.shape[1])\n",
    "    #print (m)\n",
    "    m=gradient_descent(x_train,y_train,num_iter,learning_rate)\n",
    "    x_test=np.insert(x_test,13,1,axis=1)\n",
    "   # print(m.shape),print(x_test.shape)\n",
    "    y_pred=[]\n",
    "    for i in range(x_test.shape[0]):\n",
    "        c=0\n",
    "        for j in range(x_test.shape[1]):\n",
    "            c+=x_test[i][j]*m[j]\n",
    "        y_pred.append(c)\n",
    "    y_pred=np.array(y_pred)\n",
    "    y_pred=y_pred*\n",
    "    #print(y_pred)\n",
    "    #np.savetxt(\"pred_boston.csv\",y_pred,header=\"\",fmt=\"%.5f\")\n",
    "    #return m\n",
    "    "
   ]
  },
  {
   "cell_type": "code",
   "execution_count": 153,
   "metadata": {},
   "outputs": [],
   "source": [
    "run()"
   ]
  },
  {
   "cell_type": "code",
   "execution_count": null,
   "metadata": {},
   "outputs": [],
   "source": []
  }
 ],
 "metadata": {
  "kernelspec": {
   "display_name": "Python 3",
   "language": "python",
   "name": "python3"
  },
  "language_info": {
   "codemirror_mode": {
    "name": "ipython",
    "version": 3
   },
   "file_extension": ".py",
   "mimetype": "text/x-python",
   "name": "python",
   "nbconvert_exporter": "python",
   "pygments_lexer": "ipython3",
   "version": "3.6.4"
  }
 },
 "nbformat": 4,
 "nbformat_minor": 2
}
